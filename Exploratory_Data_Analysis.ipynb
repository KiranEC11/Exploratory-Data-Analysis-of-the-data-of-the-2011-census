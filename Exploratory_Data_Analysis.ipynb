{
  "nbformat": 4,
  "nbformat_minor": 0,
  "metadata": {
    "colab": {
      "provenance": [],
      "collapsed_sections": [
        "wJC_EeLTyqDs",
        "tBTKMPBE0XcD"
      ]
    },
    "kernelspec": {
      "name": "python3",
      "display_name": "Python 3"
    },
    "language_info": {
      "name": "python"
    }
  },
  "cells": [
    {
      "cell_type": "code",
      "execution_count": null,
      "metadata": {
        "id": "89HiB_P1spCG"
      },
      "outputs": [],
      "source": [
        "import pandas as pd\n",
        "import numpy as np"
      ]
    },
    {
      "cell_type": "code",
      "source": [
        "from numpy import *\n",
        "import matplotlib.pyplot as plt\n"
      ],
      "metadata": {
        "id": "hWmynCOCVvXY"
      },
      "execution_count": null,
      "outputs": []
    },
    {
      "cell_type": "code",
      "source": [
        "from google.colab import drive\n",
        "drive.mount('/content/drive')"
      ],
      "metadata": {
        "id": "Cjlfr2iq3Pwh"
      },
      "execution_count": null,
      "outputs": []
    },
    {
      "cell_type": "code",
      "source": [
        "df = pd.read_csv('/content/drive/MyDrive/DAV_Technical_Team/Assignment/Copy of NDAP_REPORT_6000.csv')\n",
        "df.head()"
      ],
      "metadata": {
        "colab": {
          "base_uri": "https://localhost:8080/",
          "height": 820
        },
        "id": "qG58n-kutlcl",
        "outputId": "34b4922f-fa4a-4309-ed9c-f8e85d870e55"
      },
      "execution_count": null,
      "outputs": [
        {
          "output_type": "execute_result",
          "data": {
            "text/plain": [
              "   ROWID Country  State lgd code              State  District lgd code  \\\n",
              "0    585   India              24            GUJARAT                442   \n",
              "1    637   India              24            GUJARAT                459   \n",
              "2   1498   India              21             ODISHA                350   \n",
              "3   2062   India               5        UTTARAKHAND                 54   \n",
              "4   4150   India               1  JAMMU AND KASHMIR                  3   \n",
              "\n",
              "       District  Sub-District lgd Code                   Sub-District  \\\n",
              "0       BHARUCH                 999999  Unknown SubDistricts of India   \n",
              "1         SURAT                   3937                         Majura   \n",
              "2       CUTTACK                   2954                       Choudwar   \n",
              "3  RUDRA PRAYAG                    290                       Ukhimath   \n",
              "4     BARAMULLA                     39                       Tangmarg   \n",
              "\n",
              "   ULB_RLB_Village lgd Code                       ULB_RLB_Village  ...  \\\n",
              "0                   9802612                Valia (Naldhari) (INA)  ...   \n",
              "1                    802631                                 Surat  ...   \n",
              "2                    399316                  Industrial Area (OG)  ...   \n",
              "3                    800296                             Kedarnath  ...   \n",
              "4                    800009  Municipal Committee Gulmarg Tangmarg  ...   \n",
              "\n",
              "  Number of female marginal workers in household industry who  worked for 0 to 3 months  \\\n",
              "0                                                  0                                      \n",
              "1                                                  0                                      \n",
              "2                                                  0                                      \n",
              "3                                                  0                                      \n",
              "4                                                  0                                      \n",
              "\n",
              "   Number of marginal workers as Other workers who worked for 0 to 3 months  \\\n",
              "0                                                  0                          \n",
              "1                                                  0                          \n",
              "2                                                  0                          \n",
              "3                                                  0                          \n",
              "4                                                  0                          \n",
              "\n",
              "   Number of male marginal workers as Other workers who worked for 0 to 3 months  \\\n",
              "0                                                  0                               \n",
              "1                                                  0                               \n",
              "2                                                  0                               \n",
              "3                                                  0                               \n",
              "4                                                  0                               \n",
              "\n",
              "   Number of female marginal workers as Other workers who worked for 0 to 3 months  \\\n",
              "0                                                  0                                 \n",
              "1                                                  0                                 \n",
              "2                                                  0                                 \n",
              "3                                                  0                                 \n",
              "4                                                  0                                 \n",
              "\n",
              "   Number of Non workers  Number of male Non workers  \\\n",
              "0                      0                           0   \n",
              "1                      0                           0   \n",
              "2                      1                           1   \n",
              "3                      8                           8   \n",
              "4                      3                           1   \n",
              "\n",
              "   Number of female Non workers  Source Year  YearCode  \\\n",
              "0                             0         2011      2011   \n",
              "1                             0         2011      2011   \n",
              "2                             0         2011      2011   \n",
              "3                             0         2011      2011   \n",
              "4                             2         2011      2011   \n",
              "\n",
              "                              Year  \n",
              "0  Calendar Year (Jan - Dec), 2011  \n",
              "1  Calendar Year (Jan - Dec), 2011  \n",
              "2  Calendar Year (Jan - Dec), 2011  \n",
              "3  Calendar Year (Jan - Dec), 2011  \n",
              "4  Calendar Year (Jan - Dec), 2011  \n",
              "\n",
              "[5 rows x 99 columns]"
            ],
            "text/html": [
              "\n",
              "  <div id=\"df-5794141b-6fc4-4814-91ca-54b2b289ad6e\">\n",
              "    <div class=\"colab-df-container\">\n",
              "      <div>\n",
              "<style scoped>\n",
              "    .dataframe tbody tr th:only-of-type {\n",
              "        vertical-align: middle;\n",
              "    }\n",
              "\n",
              "    .dataframe tbody tr th {\n",
              "        vertical-align: top;\n",
              "    }\n",
              "\n",
              "    .dataframe thead th {\n",
              "        text-align: right;\n",
              "    }\n",
              "</style>\n",
              "<table border=\"1\" class=\"dataframe\">\n",
              "  <thead>\n",
              "    <tr style=\"text-align: right;\">\n",
              "      <th></th>\n",
              "      <th>ROWID</th>\n",
              "      <th>Country</th>\n",
              "      <th>State lgd code</th>\n",
              "      <th>State</th>\n",
              "      <th>District lgd code</th>\n",
              "      <th>District</th>\n",
              "      <th>Sub-District lgd Code</th>\n",
              "      <th>Sub-District</th>\n",
              "      <th>ULB_RLB_Village lgd Code</th>\n",
              "      <th>ULB_RLB_Village</th>\n",
              "      <th>...</th>\n",
              "      <th>Number of female marginal workers in household industry who  worked for 0 to 3 months</th>\n",
              "      <th>Number of marginal workers as Other workers who worked for 0 to 3 months</th>\n",
              "      <th>Number of male marginal workers as Other workers who worked for 0 to 3 months</th>\n",
              "      <th>Number of female marginal workers as Other workers who worked for 0 to 3 months</th>\n",
              "      <th>Number of Non workers</th>\n",
              "      <th>Number of male Non workers</th>\n",
              "      <th>Number of female Non workers</th>\n",
              "      <th>Source Year</th>\n",
              "      <th>YearCode</th>\n",
              "      <th>Year</th>\n",
              "    </tr>\n",
              "  </thead>\n",
              "  <tbody>\n",
              "    <tr>\n",
              "      <th>0</th>\n",
              "      <td>585</td>\n",
              "      <td>India</td>\n",
              "      <td>24</td>\n",
              "      <td>GUJARAT</td>\n",
              "      <td>442</td>\n",
              "      <td>BHARUCH</td>\n",
              "      <td>999999</td>\n",
              "      <td>Unknown SubDistricts of India</td>\n",
              "      <td>9802612</td>\n",
              "      <td>Valia (Naldhari) (INA)</td>\n",
              "      <td>...</td>\n",
              "      <td>0</td>\n",
              "      <td>0</td>\n",
              "      <td>0</td>\n",
              "      <td>0</td>\n",
              "      <td>0</td>\n",
              "      <td>0</td>\n",
              "      <td>0</td>\n",
              "      <td>2011</td>\n",
              "      <td>2011</td>\n",
              "      <td>Calendar Year (Jan - Dec), 2011</td>\n",
              "    </tr>\n",
              "    <tr>\n",
              "      <th>1</th>\n",
              "      <td>637</td>\n",
              "      <td>India</td>\n",
              "      <td>24</td>\n",
              "      <td>GUJARAT</td>\n",
              "      <td>459</td>\n",
              "      <td>SURAT</td>\n",
              "      <td>3937</td>\n",
              "      <td>Majura</td>\n",
              "      <td>802631</td>\n",
              "      <td>Surat</td>\n",
              "      <td>...</td>\n",
              "      <td>0</td>\n",
              "      <td>0</td>\n",
              "      <td>0</td>\n",
              "      <td>0</td>\n",
              "      <td>0</td>\n",
              "      <td>0</td>\n",
              "      <td>0</td>\n",
              "      <td>2011</td>\n",
              "      <td>2011</td>\n",
              "      <td>Calendar Year (Jan - Dec), 2011</td>\n",
              "    </tr>\n",
              "    <tr>\n",
              "      <th>2</th>\n",
              "      <td>1498</td>\n",
              "      <td>India</td>\n",
              "      <td>21</td>\n",
              "      <td>ODISHA</td>\n",
              "      <td>350</td>\n",
              "      <td>CUTTACK</td>\n",
              "      <td>2954</td>\n",
              "      <td>Choudwar</td>\n",
              "      <td>399316</td>\n",
              "      <td>Industrial Area (OG)</td>\n",
              "      <td>...</td>\n",
              "      <td>0</td>\n",
              "      <td>0</td>\n",
              "      <td>0</td>\n",
              "      <td>0</td>\n",
              "      <td>1</td>\n",
              "      <td>1</td>\n",
              "      <td>0</td>\n",
              "      <td>2011</td>\n",
              "      <td>2011</td>\n",
              "      <td>Calendar Year (Jan - Dec), 2011</td>\n",
              "    </tr>\n",
              "    <tr>\n",
              "      <th>3</th>\n",
              "      <td>2062</td>\n",
              "      <td>India</td>\n",
              "      <td>5</td>\n",
              "      <td>UTTARAKHAND</td>\n",
              "      <td>54</td>\n",
              "      <td>RUDRA PRAYAG</td>\n",
              "      <td>290</td>\n",
              "      <td>Ukhimath</td>\n",
              "      <td>800296</td>\n",
              "      <td>Kedarnath</td>\n",
              "      <td>...</td>\n",
              "      <td>0</td>\n",
              "      <td>0</td>\n",
              "      <td>0</td>\n",
              "      <td>0</td>\n",
              "      <td>8</td>\n",
              "      <td>8</td>\n",
              "      <td>0</td>\n",
              "      <td>2011</td>\n",
              "      <td>2011</td>\n",
              "      <td>Calendar Year (Jan - Dec), 2011</td>\n",
              "    </tr>\n",
              "    <tr>\n",
              "      <th>4</th>\n",
              "      <td>4150</td>\n",
              "      <td>India</td>\n",
              "      <td>1</td>\n",
              "      <td>JAMMU AND KASHMIR</td>\n",
              "      <td>3</td>\n",
              "      <td>BARAMULLA</td>\n",
              "      <td>39</td>\n",
              "      <td>Tangmarg</td>\n",
              "      <td>800009</td>\n",
              "      <td>Municipal Committee Gulmarg Tangmarg</td>\n",
              "      <td>...</td>\n",
              "      <td>0</td>\n",
              "      <td>0</td>\n",
              "      <td>0</td>\n",
              "      <td>0</td>\n",
              "      <td>3</td>\n",
              "      <td>1</td>\n",
              "      <td>2</td>\n",
              "      <td>2011</td>\n",
              "      <td>2011</td>\n",
              "      <td>Calendar Year (Jan - Dec), 2011</td>\n",
              "    </tr>\n",
              "  </tbody>\n",
              "</table>\n",
              "<p>5 rows × 99 columns</p>\n",
              "</div>\n",
              "      <button class=\"colab-df-convert\" onclick=\"convertToInteractive('df-5794141b-6fc4-4814-91ca-54b2b289ad6e')\"\n",
              "              title=\"Convert this dataframe to an interactive table.\"\n",
              "              style=\"display:none;\">\n",
              "        \n",
              "  <svg xmlns=\"http://www.w3.org/2000/svg\" height=\"24px\"viewBox=\"0 0 24 24\"\n",
              "       width=\"24px\">\n",
              "    <path d=\"M0 0h24v24H0V0z\" fill=\"none\"/>\n",
              "    <path d=\"M18.56 5.44l.94 2.06.94-2.06 2.06-.94-2.06-.94-.94-2.06-.94 2.06-2.06.94zm-11 1L8.5 8.5l.94-2.06 2.06-.94-2.06-.94L8.5 2.5l-.94 2.06-2.06.94zm10 10l.94 2.06.94-2.06 2.06-.94-2.06-.94-.94-2.06-.94 2.06-2.06.94z\"/><path d=\"M17.41 7.96l-1.37-1.37c-.4-.4-.92-.59-1.43-.59-.52 0-1.04.2-1.43.59L10.3 9.45l-7.72 7.72c-.78.78-.78 2.05 0 2.83L4 21.41c.39.39.9.59 1.41.59.51 0 1.02-.2 1.41-.59l7.78-7.78 2.81-2.81c.8-.78.8-2.07 0-2.86zM5.41 20L4 18.59l7.72-7.72 1.47 1.35L5.41 20z\"/>\n",
              "  </svg>\n",
              "      </button>\n",
              "      \n",
              "  <style>\n",
              "    .colab-df-container {\n",
              "      display:flex;\n",
              "      flex-wrap:wrap;\n",
              "      gap: 12px;\n",
              "    }\n",
              "\n",
              "    .colab-df-convert {\n",
              "      background-color: #E8F0FE;\n",
              "      border: none;\n",
              "      border-radius: 50%;\n",
              "      cursor: pointer;\n",
              "      display: none;\n",
              "      fill: #1967D2;\n",
              "      height: 32px;\n",
              "      padding: 0 0 0 0;\n",
              "      width: 32px;\n",
              "    }\n",
              "\n",
              "    .colab-df-convert:hover {\n",
              "      background-color: #E2EBFA;\n",
              "      box-shadow: 0px 1px 2px rgba(60, 64, 67, 0.3), 0px 1px 3px 1px rgba(60, 64, 67, 0.15);\n",
              "      fill: #174EA6;\n",
              "    }\n",
              "\n",
              "    [theme=dark] .colab-df-convert {\n",
              "      background-color: #3B4455;\n",
              "      fill: #D2E3FC;\n",
              "    }\n",
              "\n",
              "    [theme=dark] .colab-df-convert:hover {\n",
              "      background-color: #434B5C;\n",
              "      box-shadow: 0px 1px 3px 1px rgba(0, 0, 0, 0.15);\n",
              "      filter: drop-shadow(0px 1px 2px rgba(0, 0, 0, 0.3));\n",
              "      fill: #FFFFFF;\n",
              "    }\n",
              "  </style>\n",
              "\n",
              "      <script>\n",
              "        const buttonEl =\n",
              "          document.querySelector('#df-5794141b-6fc4-4814-91ca-54b2b289ad6e button.colab-df-convert');\n",
              "        buttonEl.style.display =\n",
              "          google.colab.kernel.accessAllowed ? 'block' : 'none';\n",
              "\n",
              "        async function convertToInteractive(key) {\n",
              "          const element = document.querySelector('#df-5794141b-6fc4-4814-91ca-54b2b289ad6e');\n",
              "          const dataTable =\n",
              "            await google.colab.kernel.invokeFunction('convertToInteractive',\n",
              "                                                     [key], {});\n",
              "          if (!dataTable) return;\n",
              "\n",
              "          const docLinkHtml = 'Like what you see? Visit the ' +\n",
              "            '<a target=\"_blank\" href=https://colab.research.google.com/notebooks/data_table.ipynb>data table notebook</a>'\n",
              "            + ' to learn more about interactive tables.';\n",
              "          element.innerHTML = '';\n",
              "          dataTable['output_type'] = 'display_data';\n",
              "          await google.colab.output.renderOutput(dataTable, element);\n",
              "          const docLink = document.createElement('div');\n",
              "          docLink.innerHTML = docLinkHtml;\n",
              "          element.appendChild(docLink);\n",
              "        }\n",
              "      </script>\n",
              "    </div>\n",
              "  </div>\n",
              "  "
            ]
          },
          "metadata": {},
          "execution_count": 3
        }
      ]
    },
    {
      "cell_type": "code",
      "source": [
        "df.shape"
      ],
      "metadata": {
        "colab": {
          "base_uri": "https://localhost:8080/"
        },
        "id": "DHiwiKtovul9",
        "outputId": "f73b6883-e619-4e3d-ba98-3ce46fd79a29"
      },
      "execution_count": null,
      "outputs": [
        {
          "output_type": "execute_result",
          "data": {
            "text/plain": [
              "(606678, 99)"
            ]
          },
          "metadata": {},
          "execution_count": 4
        }
      ]
    },
    {
      "cell_type": "code",
      "source": [
        "df.columns"
      ],
      "metadata": {
        "colab": {
          "base_uri": "https://localhost:8080/"
        },
        "id": "ZwFv4_n1utmS",
        "outputId": "ba61ab92-098e-42ba-bd0b-bc79b6477707"
      },
      "execution_count": null,
      "outputs": [
        {
          "output_type": "execute_result",
          "data": {
            "text/plain": [
              "Index(['ROWID', 'Country', 'State lgd code', 'State', 'District lgd code',\n",
              "       'District', 'Sub-District lgd Code', 'Sub-District',\n",
              "       'ULB_RLB_Village lgd Code', 'ULB_RLB_Village', 'Rural or Urban',\n",
              "       'Households', 'Population', 'Male population', 'Female population',\n",
              "       'Population in the age group 0 to 6 years',\n",
              "       'Male Population in the age group 0 to 6 years',\n",
              "       'Female Population in the age group 0 to 6 years',\n",
              "       'Scheduled Caste population', 'Male Scheduled Caste population',\n",
              "       'Female Scheduled Caste population ', 'Scheduled Tribe population',\n",
              "       'Male Scheduled Tribe population', 'Female Scheduled Tribe population ',\n",
              "       'Literate population ', 'Male literate population',\n",
              "       'Female literate population ', 'Illiterate population',\n",
              "       'Male illiterate population ', 'Female illiterate population ',\n",
              "       'Working population', 'Male working population',\n",
              "       'Female Woking population', 'Number of main workers',\n",
              "       'Number of male main workers', 'Number of female main worker',\n",
              "       'Number of main workers as cultivators',\n",
              "       'Number of male main workers as cultivators',\n",
              "       'Number of female main workers as cultivators',\n",
              "       'Number of main workers as agricultural labourers',\n",
              "       'Number of male main workers as agricultural labourers',\n",
              "       'Number of female main workers as agricultural labourers',\n",
              "       'Number of main workers in the household industry',\n",
              "       'Number of male main workers in the household industry',\n",
              "       'Number of female main workers in the household industry',\n",
              "       'Number of  main workers as Other workers',\n",
              "       'Number of male main workers as Other workers',\n",
              "       'Number of female main workers as Other workers',\n",
              "       'Number of marginal workers', 'Number of male marginal workers',\n",
              "       'Number of female marginal workers',\n",
              "       'Number of marginal workers as cultivators',\n",
              "       'Number of male marginal workers as cultivators',\n",
              "       'Number of female marginal workers as cultivators',\n",
              "       'Number of marginal workers as agricultural labourers',\n",
              "       'Number of male marginal workers as agricultural labourers',\n",
              "       'Number of female marginal workers as agricultural labourers',\n",
              "       'Number of marginal workers in the household industry',\n",
              "       'Number of male marginal workers in the household industry',\n",
              "       'Number of female marginal workers in the household industry',\n",
              "       'Number of marginal workers as Other workers',\n",
              "       'Number of male marginal workers as Other workers',\n",
              "       'Number of female marginal workers as Other workers',\n",
              "       'Number of marginal workers  who worked for 3 to 6 months',\n",
              "       'Number of male marginal workers  who worked for  3 to 6 months',\n",
              "       'Number of female marginal workers who worked for  3 to 6 months',\n",
              "       'Total Number of marginal workers as cultivators who worked for 3 to 6 months',\n",
              "       'Number of male marginal workers as cultivators who worked for 3 to 6 months',\n",
              "       'Number of female marginal workers as cultivators who worked for 3 to 6 months',\n",
              "       'Number of marginal workers as agricultural labour who worked for 3 to 6 months',\n",
              "       'Number of male marginal workers as agricultural labour who worked for 3 to 6 months',\n",
              "       'Number of female marginal workers as agricultural labour who worked for 3 to 6 months',\n",
              "       'Number of  marginal workers in household industry who worked for 3 to 6 months',\n",
              "       'Number of male marginal workers in household industry who worked for 3 to 6 months',\n",
              "       'Number of female marginal workers in household industry who  worked for 3 to 6 months',\n",
              "       'Number of marginal workers as Other workers who worked for 3 to 6 months',\n",
              "       'Number of male marginal workers as Other workers who worked for 3 to 6 months',\n",
              "       'Number of female marginal workers as Other workers who worked for 3 to 6 months',\n",
              "       'Number of marginal workers  who worked for 0 to 3 months',\n",
              "       'Number of male marginal workers  who worked for 0 to 3 months',\n",
              "       'Number of female marginal workers  who worked for 0 to 3 months',\n",
              "       'Number of marginal workers as cultivators who worked for 0 to 3 months',\n",
              "       'Number of male marginal workers as cultivators who worked for 0 to 3 months',\n",
              "       'Number of female marginal workers as cultivators who worked for 0 to 3 months',\n",
              "       'Total nuumber of marginal workers as agricultural labour who worked for 0 to 3 months',\n",
              "       'Number of male marginal workers in agricultural labour who  worked for 0 to 3 months',\n",
              "       'Number of female marginal workers as agricultural labour who worked for 0 to 3 months',\n",
              "       'Number of marginal workers in household industry who worked for 0 to 3 months',\n",
              "       'Number of male marginal workers in household industry who  worked for 0 to 3 months',\n",
              "       'Number of female marginal workers in household industry who  worked for 0 to 3 months',\n",
              "       'Number of marginal workers as Other workers who worked for 0 to 3 months',\n",
              "       'Number of male marginal workers as Other workers who worked for 0 to 3 months',\n",
              "       'Number of female marginal workers as Other workers who worked for 0 to 3 months',\n",
              "       'Number of Non workers', 'Number of male Non workers',\n",
              "       'Number of female Non workers', 'Source Year', 'YearCode', 'Year'],\n",
              "      dtype='object')"
            ]
          },
          "metadata": {},
          "execution_count": 5
        }
      ]
    },
    {
      "cell_type": "code",
      "source": [],
      "metadata": {
        "id": "NfnEMJDATZTg"
      },
      "execution_count": null,
      "outputs": []
    },
    {
      "cell_type": "code",
      "source": [
        "def pearson_correlation(x, y):\n",
        "    # Calculate mean of x and y\n",
        "    mean_x = np.mean(x)\n",
        "    mean_y = np.mean(y)\n",
        "\n",
        "    # Calculate covariance and standard deviation of x and y\n",
        "    cov = np.sum((x - mean_x) * (y - mean_y))\n",
        "    std_x = np.sqrt(np.sum((x - mean_x)**2))\n",
        "    std_y = np.sqrt(np.sum((y - mean_y)**2))\n",
        "\n",
        "    # Calculate Pearson correlation coefficient\n",
        "    correlation = cov / (std_x * std_y)\n",
        "\n",
        "    return correlation\n"
      ],
      "metadata": {
        "id": "_plPuL1gR6YC"
      },
      "execution_count": null,
      "outputs": []
    },
    {
      "cell_type": "markdown",
      "source": [
        "#Delete duplicates"
      ],
      "metadata": {
        "id": "wJC_EeLTyqDs"
      }
    },
    {
      "cell_type": "code",
      "source": [
        "df.drop(columns=[\"ROWID\"]).duplicated().value_counts()"
      ],
      "metadata": {
        "colab": {
          "base_uri": "https://localhost:8080/"
        },
        "id": "k7S5dPoayr_1",
        "outputId": "a3f10bf7-ca33-4082-b8e2-34670439b0cb"
      },
      "execution_count": null,
      "outputs": [
        {
          "output_type": "execute_result",
          "data": {
            "text/plain": [
              "False    606678\n",
              "dtype: int64"
            ]
          },
          "metadata": {},
          "execution_count": 7
        }
      ]
    },
    {
      "cell_type": "markdown",
      "source": [
        "no duplicates"
      ],
      "metadata": {
        "id": "j7D9dicpzcDz"
      }
    },
    {
      "cell_type": "markdown",
      "source": [
        "# check if any data data is unfilled"
      ],
      "metadata": {
        "id": "tBTKMPBE0XcD"
      }
    },
    {
      "cell_type": "code",
      "source": [
        "unfilled_val_exist = df.isnull().any().any()\n",
        "if unfilled_val_exist:\n",
        "    print(\"Unfilled values exist\")\n",
        "else:\n",
        "    print(\"No unfilled values\")"
      ],
      "metadata": {
        "colab": {
          "base_uri": "https://localhost:8080/"
        },
        "id": "I3rlNxipyxqU",
        "outputId": "6a5f11ad-2add-424c-c2d2-992d2dc7e279"
      },
      "execution_count": null,
      "outputs": [
        {
          "output_type": "stream",
          "name": "stdout",
          "text": [
            "No unfilled values\n"
          ]
        }
      ]
    },
    {
      "cell_type": "markdown",
      "source": [
        "# Q1"
      ],
      "metadata": {
        "id": "YYq5THvS1EO4"
      }
    },
    {
      "cell_type": "code",
      "source": [
        "df[['State','Population']]"
      ],
      "metadata": {
        "id": "-yP9SUZcwvSK",
        "colab": {
          "base_uri": "https://localhost:8080/",
          "height": 424
        },
        "outputId": "39cb7b20-3b98-4cee-ef4c-9d0292e73e2d"
      },
      "execution_count": null,
      "outputs": [
        {
          "output_type": "execute_result",
          "data": {
            "text/plain": [
              "                    State  Population\n",
              "0                 GUJARAT           5\n",
              "1                 GUJARAT          18\n",
              "2                  ODISHA           3\n",
              "3             UTTARAKHAND         612\n",
              "4       JAMMU AND KASHMIR        1965\n",
              "...                   ...         ...\n",
              "606673          TELANGANA        5344\n",
              "606674          TELANGANA         651\n",
              "606675          TELANGANA         107\n",
              "606676             LADAKH         266\n",
              "606677             LADAKH         334\n",
              "\n",
              "[606678 rows x 2 columns]"
            ],
            "text/html": [
              "\n",
              "  <div id=\"df-093325ac-04ed-458f-9d42-5d5ec7eea26e\">\n",
              "    <div class=\"colab-df-container\">\n",
              "      <div>\n",
              "<style scoped>\n",
              "    .dataframe tbody tr th:only-of-type {\n",
              "        vertical-align: middle;\n",
              "    }\n",
              "\n",
              "    .dataframe tbody tr th {\n",
              "        vertical-align: top;\n",
              "    }\n",
              "\n",
              "    .dataframe thead th {\n",
              "        text-align: right;\n",
              "    }\n",
              "</style>\n",
              "<table border=\"1\" class=\"dataframe\">\n",
              "  <thead>\n",
              "    <tr style=\"text-align: right;\">\n",
              "      <th></th>\n",
              "      <th>State</th>\n",
              "      <th>Population</th>\n",
              "    </tr>\n",
              "  </thead>\n",
              "  <tbody>\n",
              "    <tr>\n",
              "      <th>0</th>\n",
              "      <td>GUJARAT</td>\n",
              "      <td>5</td>\n",
              "    </tr>\n",
              "    <tr>\n",
              "      <th>1</th>\n",
              "      <td>GUJARAT</td>\n",
              "      <td>18</td>\n",
              "    </tr>\n",
              "    <tr>\n",
              "      <th>2</th>\n",
              "      <td>ODISHA</td>\n",
              "      <td>3</td>\n",
              "    </tr>\n",
              "    <tr>\n",
              "      <th>3</th>\n",
              "      <td>UTTARAKHAND</td>\n",
              "      <td>612</td>\n",
              "    </tr>\n",
              "    <tr>\n",
              "      <th>4</th>\n",
              "      <td>JAMMU AND KASHMIR</td>\n",
              "      <td>1965</td>\n",
              "    </tr>\n",
              "    <tr>\n",
              "      <th>...</th>\n",
              "      <td>...</td>\n",
              "      <td>...</td>\n",
              "    </tr>\n",
              "    <tr>\n",
              "      <th>606673</th>\n",
              "      <td>TELANGANA</td>\n",
              "      <td>5344</td>\n",
              "    </tr>\n",
              "    <tr>\n",
              "      <th>606674</th>\n",
              "      <td>TELANGANA</td>\n",
              "      <td>651</td>\n",
              "    </tr>\n",
              "    <tr>\n",
              "      <th>606675</th>\n",
              "      <td>TELANGANA</td>\n",
              "      <td>107</td>\n",
              "    </tr>\n",
              "    <tr>\n",
              "      <th>606676</th>\n",
              "      <td>LADAKH</td>\n",
              "      <td>266</td>\n",
              "    </tr>\n",
              "    <tr>\n",
              "      <th>606677</th>\n",
              "      <td>LADAKH</td>\n",
              "      <td>334</td>\n",
              "    </tr>\n",
              "  </tbody>\n",
              "</table>\n",
              "<p>606678 rows × 2 columns</p>\n",
              "</div>\n",
              "      <button class=\"colab-df-convert\" onclick=\"convertToInteractive('df-093325ac-04ed-458f-9d42-5d5ec7eea26e')\"\n",
              "              title=\"Convert this dataframe to an interactive table.\"\n",
              "              style=\"display:none;\">\n",
              "        \n",
              "  <svg xmlns=\"http://www.w3.org/2000/svg\" height=\"24px\"viewBox=\"0 0 24 24\"\n",
              "       width=\"24px\">\n",
              "    <path d=\"M0 0h24v24H0V0z\" fill=\"none\"/>\n",
              "    <path d=\"M18.56 5.44l.94 2.06.94-2.06 2.06-.94-2.06-.94-.94-2.06-.94 2.06-2.06.94zm-11 1L8.5 8.5l.94-2.06 2.06-.94-2.06-.94L8.5 2.5l-.94 2.06-2.06.94zm10 10l.94 2.06.94-2.06 2.06-.94-2.06-.94-.94-2.06-.94 2.06-2.06.94z\"/><path d=\"M17.41 7.96l-1.37-1.37c-.4-.4-.92-.59-1.43-.59-.52 0-1.04.2-1.43.59L10.3 9.45l-7.72 7.72c-.78.78-.78 2.05 0 2.83L4 21.41c.39.39.9.59 1.41.59.51 0 1.02-.2 1.41-.59l7.78-7.78 2.81-2.81c.8-.78.8-2.07 0-2.86zM5.41 20L4 18.59l7.72-7.72 1.47 1.35L5.41 20z\"/>\n",
              "  </svg>\n",
              "      </button>\n",
              "      \n",
              "  <style>\n",
              "    .colab-df-container {\n",
              "      display:flex;\n",
              "      flex-wrap:wrap;\n",
              "      gap: 12px;\n",
              "    }\n",
              "\n",
              "    .colab-df-convert {\n",
              "      background-color: #E8F0FE;\n",
              "      border: none;\n",
              "      border-radius: 50%;\n",
              "      cursor: pointer;\n",
              "      display: none;\n",
              "      fill: #1967D2;\n",
              "      height: 32px;\n",
              "      padding: 0 0 0 0;\n",
              "      width: 32px;\n",
              "    }\n",
              "\n",
              "    .colab-df-convert:hover {\n",
              "      background-color: #E2EBFA;\n",
              "      box-shadow: 0px 1px 2px rgba(60, 64, 67, 0.3), 0px 1px 3px 1px rgba(60, 64, 67, 0.15);\n",
              "      fill: #174EA6;\n",
              "    }\n",
              "\n",
              "    [theme=dark] .colab-df-convert {\n",
              "      background-color: #3B4455;\n",
              "      fill: #D2E3FC;\n",
              "    }\n",
              "\n",
              "    [theme=dark] .colab-df-convert:hover {\n",
              "      background-color: #434B5C;\n",
              "      box-shadow: 0px 1px 3px 1px rgba(0, 0, 0, 0.15);\n",
              "      filter: drop-shadow(0px 1px 2px rgba(0, 0, 0, 0.3));\n",
              "      fill: #FFFFFF;\n",
              "    }\n",
              "  </style>\n",
              "\n",
              "      <script>\n",
              "        const buttonEl =\n",
              "          document.querySelector('#df-093325ac-04ed-458f-9d42-5d5ec7eea26e button.colab-df-convert');\n",
              "        buttonEl.style.display =\n",
              "          google.colab.kernel.accessAllowed ? 'block' : 'none';\n",
              "\n",
              "        async function convertToInteractive(key) {\n",
              "          const element = document.querySelector('#df-093325ac-04ed-458f-9d42-5d5ec7eea26e');\n",
              "          const dataTable =\n",
              "            await google.colab.kernel.invokeFunction('convertToInteractive',\n",
              "                                                     [key], {});\n",
              "          if (!dataTable) return;\n",
              "\n",
              "          const docLinkHtml = 'Like what you see? Visit the ' +\n",
              "            '<a target=\"_blank\" href=https://colab.research.google.com/notebooks/data_table.ipynb>data table notebook</a>'\n",
              "            + ' to learn more about interactive tables.';\n",
              "          element.innerHTML = '';\n",
              "          dataTable['output_type'] = 'display_data';\n",
              "          await google.colab.output.renderOutput(dataTable, element);\n",
              "          const docLink = document.createElement('div');\n",
              "          docLink.innerHTML = docLinkHtml;\n",
              "          element.appendChild(docLink);\n",
              "        }\n",
              "      </script>\n",
              "    </div>\n",
              "  </div>\n",
              "  "
            ]
          },
          "metadata": {},
          "execution_count": 9
        }
      ]
    },
    {
      "cell_type": "code",
      "source": [
        "# all the states\n",
        "states = df['State'].value_counts().index\n",
        "states.shape"
      ],
      "metadata": {
        "colab": {
          "base_uri": "https://localhost:8080/"
        },
        "id": "kLkAZZaROp-7",
        "outputId": "07b1561f-c861-441d-a4e4-3e84f6703b22"
      },
      "execution_count": null,
      "outputs": [
        {
          "output_type": "execute_result",
          "data": {
            "text/plain": [
              "(36,)"
            ]
          },
          "metadata": {},
          "execution_count": 10
        }
      ]
    },
    {
      "cell_type": "code",
      "source": [
        "state_pop = {}\n",
        "for state in states:\n",
        "    state_df = df[df['State']==state]\n",
        "    state_pop[state] = state_df['Population'].sum()\n"
      ],
      "metadata": {
        "id": "feAG-3_SQP6X"
      },
      "execution_count": null,
      "outputs": []
    },
    {
      "cell_type": "markdown",
      "source": [
        "##1) total population in each state"
      ],
      "metadata": {
        "id": "gYUcY7o3UCJ_"
      }
    },
    {
      "cell_type": "code",
      "source": [
        "state_pop"
      ],
      "metadata": {
        "colab": {
          "base_uri": "https://localhost:8080/"
        },
        "id": "BiyAZEY9SMA6",
        "outputId": "35cd2ed7-3773-404a-9516-e020ae8bdd2a"
      },
      "execution_count": null,
      "outputs": [
        {
          "output_type": "execute_result",
          "data": {
            "text/plain": [
              "{'UTTAR PRADESH': 199812341,\n",
              " 'MADHYA PRADESH': 72641665,\n",
              " 'ODISHA': 41980846,\n",
              " 'RAJASTHAN': 68548437,\n",
              " 'MAHARASHTRA': 112374333,\n",
              " 'BIHAR': 104099452,\n",
              " 'WEST BENGAL': 91276115,\n",
              " 'JHARKHAND': 32988134,\n",
              " 'KARNATAKA': 61095297,\n",
              " 'ASSAM': 31205576,\n",
              " 'CHHATTISGARH': 25545198,\n",
              " 'GUJARAT': 60443083,\n",
              " 'HIMACHAL PRADESH': 6864602,\n",
              " 'ANDHRA PRADESH': 49577103,\n",
              " 'TAMIL NADU': 72147030,\n",
              " 'UTTARAKHAND': 10086292,\n",
              " 'PUNJAB': 27743338,\n",
              " 'TELANGANA': 35003674,\n",
              " 'HARYANA': 25351462,\n",
              " 'MEGHALAYA': 2966889,\n",
              " 'JAMMU AND KASHMIR': 12267013,\n",
              " 'ARUNACHAL PRADESH': 1383727,\n",
              " 'MANIPUR': 2855794,\n",
              " 'KERALA': 33406061,\n",
              " 'NAGALAND': 1978502,\n",
              " 'TRIPURA': 3673917,\n",
              " 'MIZORAM': 1097206,\n",
              " 'SIKKIM': 610577,\n",
              " 'ANDAMAN AND NICOBAR ISLANDS': 380581,\n",
              " 'GOA': 1458545,\n",
              " 'DELHI': 16787941,\n",
              " 'LADAKH': 274289,\n",
              " 'PUDUCHERRY': 1247953,\n",
              " 'THE DADRA AND NAGAR HAVELI AND DAMAN AND DIU': 586956,\n",
              " 'CHANDIGARH': 1055450,\n",
              " 'LAKSHADWEEP': 64473}"
            ]
          },
          "metadata": {},
          "execution_count": 12
        }
      ]
    },
    {
      "cell_type": "code",
      "source": [
        "dict(sorted(state_pop.items(), key = lambda x:x[1], reverse = True))"
      ],
      "metadata": {
        "colab": {
          "base_uri": "https://localhost:8080/"
        },
        "id": "v9TMTGbGXZLx",
        "outputId": "ab8ed050-2649-4ccb-edd0-7944fa1a8fcc"
      },
      "execution_count": null,
      "outputs": [
        {
          "output_type": "execute_result",
          "data": {
            "text/plain": [
              "{'UTTAR PRADESH': 199812341,\n",
              " 'MAHARASHTRA': 112374333,\n",
              " 'BIHAR': 104099452,\n",
              " 'WEST BENGAL': 91276115,\n",
              " 'MADHYA PRADESH': 72641665,\n",
              " 'TAMIL NADU': 72147030,\n",
              " 'RAJASTHAN': 68548437,\n",
              " 'KARNATAKA': 61095297,\n",
              " 'GUJARAT': 60443083,\n",
              " 'ANDHRA PRADESH': 49577103,\n",
              " 'ODISHA': 41980846,\n",
              " 'TELANGANA': 35003674,\n",
              " 'KERALA': 33406061,\n",
              " 'JHARKHAND': 32988134,\n",
              " 'ASSAM': 31205576,\n",
              " 'PUNJAB': 27743338,\n",
              " 'CHHATTISGARH': 25545198,\n",
              " 'HARYANA': 25351462,\n",
              " 'DELHI': 16787941,\n",
              " 'JAMMU AND KASHMIR': 12267013,\n",
              " 'UTTARAKHAND': 10086292,\n",
              " 'HIMACHAL PRADESH': 6864602,\n",
              " 'TRIPURA': 3673917,\n",
              " 'MEGHALAYA': 2966889,\n",
              " 'MANIPUR': 2855794,\n",
              " 'NAGALAND': 1978502,\n",
              " 'GOA': 1458545,\n",
              " 'ARUNACHAL PRADESH': 1383727,\n",
              " 'PUDUCHERRY': 1247953,\n",
              " 'MIZORAM': 1097206,\n",
              " 'CHANDIGARH': 1055450,\n",
              " 'SIKKIM': 610577,\n",
              " 'THE DADRA AND NAGAR HAVELI AND DAMAN AND DIU': 586956,\n",
              " 'ANDAMAN AND NICOBAR ISLANDS': 380581,\n",
              " 'LADAKH': 274289,\n",
              " 'LAKSHADWEEP': 64473}"
            ]
          },
          "metadata": {},
          "execution_count": 13
        }
      ]
    },
    {
      "cell_type": "markdown",
      "source": [
        "##2) Which state has the highest male-female ratio?\n"
      ],
      "metadata": {
        "id": "DqvnRaukVgYT"
      }
    },
    {
      "cell_type": "code",
      "source": [
        "state_male_pop = {}\n",
        "state_female_pop = {}\n",
        "state_mf_pop = {}\n",
        "for state in states:\n",
        "    state_df = df[df['State']==state]\n",
        "    state_male_pop[state] = state_df['Male population'].sum()\n",
        "    state_female_pop[state] = state_df['Female population'].sum()\n",
        "    state_mf_pop[state] = state_male_pop[state]/ state_female_pop[state]\n",
        "\n",
        "state_mf_pop"
      ],
      "metadata": {
        "colab": {
          "base_uri": "https://localhost:8080/"
        },
        "id": "JPecNZbeTlmf",
        "outputId": "1aeeb84e-136c-4691-93be-f1c8d2c73b07"
      },
      "execution_count": null,
      "outputs": [
        {
          "output_type": "execute_result",
          "data": {
            "text/plain": [
              "{'UTTAR PRADESH': 1.0959666766496912,\n",
              " 'MADHYA PRADESH': 1.0742007464495902,\n",
              " 'ODISHA': 1.0216923506636102,\n",
              " 'RAJASTHAN': 1.0773865184693117,\n",
              " 'MAHARASHTRA': 1.075959394048657,\n",
              " 'BIHAR': 1.0894569681498645,\n",
              " 'WEST BENGAL': 1.0526667948213744,\n",
              " 'JHARKHAND': 1.054334651548881,\n",
              " 'KARNATAKA': 1.02781463086286,\n",
              " 'ASSAM': 1.0441048168517857,\n",
              " 'CHHATTISGARH': 1.009486243365974,\n",
              " 'GUJARAT': 1.087836039310386,\n",
              " 'HIMACHAL PRADESH': 1.0293088804926436,\n",
              " 'ANDHRA PRADESH': 1.00339129552799,\n",
              " 'TAMIL NADU': 1.0035802105886977,\n",
              " 'UTTARAKHAND': 1.0382445737805595,\n",
              " 'PUNJAB': 1.1171861174173467,\n",
              " 'TELANGANA': 1.012626005193985,\n",
              " 'HARYANA': 1.1381499179200198,\n",
              " 'MEGHALAYA': 1.0113724418785173,\n",
              " 'JAMMU AND KASHMIR': 1.1211803620441398,\n",
              " 'ARUNACHAL PRADESH': 1.0658345961198241,\n",
              " 'MANIPUR': 1.0150845888535769,\n",
              " 'KERALA': 0.9222472932159456,\n",
              " 'NAGALAND': 1.0742210801874084,\n",
              " 'TRIPURA': 1.0415856043291039,\n",
              " 'MIZORAM': 1.0248621894302476,\n",
              " 'SIKKIM': 1.123694379615105,\n",
              " 'ANDAMAN AND NICOBAR ISLANDS': 1.1415846041303246,\n",
              " 'GOA': 1.027432392046205,\n",
              " 'DELHI': 1.1521304409972803,\n",
              " 'LADAKH': 1.3337190406098713,\n",
              " 'PUDUCHERRY': 0.9639133075874745,\n",
              " 'THE DADRA AND NAGAR HAVELI AND DAMAN AND DIU': 1.41650095720373,\n",
              " 'CHANDIGARH': 1.2229968385823538,\n",
              " 'LAKSHADWEEP': 1.056555023923445}"
            ]
          },
          "metadata": {},
          "execution_count": 14
        }
      ]
    },
    {
      "cell_type": "code",
      "source": [
        "for key,val in zip(state_mf_pop.keys(), state_mf_pop.values()):\n",
        "    if val == max(state_mf_pop.values()):\n",
        "        print(f'state with highest male-female ratio ({val}) is {key} ')"
      ],
      "metadata": {
        "colab": {
          "base_uri": "https://localhost:8080/"
        },
        "id": "sPEKHoR2g7IZ",
        "outputId": "e3a4f111-713a-442e-e3d9-55eff4a164f1"
      },
      "execution_count": null,
      "outputs": [
        {
          "output_type": "stream",
          "name": "stdout",
          "text": [
            "state with highest male-female ratio (1.41650095720373) is THE DADRA AND NAGAR HAVELI AND DAMAN AND DIU \n"
          ]
        }
      ]
    },
    {
      "cell_type": "code",
      "source": [],
      "metadata": {
        "id": "CjHAEVNYhEGH"
      },
      "execution_count": null,
      "outputs": []
    },
    {
      "cell_type": "markdown",
      "source": [
        "##3) Which state has the higher proportin of SC/ST population? Does the states with higher proportion of SC/ST population has lower literacy rate?\n"
      ],
      "metadata": {
        "id": "gxF9lIeEioh9"
      }
    },
    {
      "cell_type": "code",
      "source": [
        "state_literacy = {}\n",
        "state_sc_pop ={}\n",
        "state_st_pop = {}\n",
        "state_sc_st_pop = {}\n",
        "for state in states:\n",
        "    state_df = df[df['State'] == state]\n",
        "    state_literacy[state] = (state_df['Literate population '].sum() - state_df['Population in the age group 0 to 6 years'].sum()) / state_pop[state]\n",
        "    state_sc_pop[state] = state_df[\"Scheduled Caste population\"].sum() / state_pop[state]\n",
        "    state_st_pop[state] = state_df[\"Scheduled Tribe population\"].sum() / state_pop[state]\n",
        "    state_sc_st_pop[state] = (state_df[\"Scheduled Caste population\"].sum() + state_df[\"Scheduled Tribe population\"].sum()) /state_pop[state]\n"
      ],
      "metadata": {
        "id": "KKrQh1wviub-"
      },
      "execution_count": null,
      "outputs": []
    },
    {
      "cell_type": "code",
      "source": [
        "pearson_correlation(list(state_literacy.values()), list(state_sc_st_pop.values()))"
      ],
      "metadata": {
        "colab": {
          "base_uri": "https://localhost:8080/"
        },
        "id": "JvpywQ5aS1yf",
        "outputId": "02e26770-e0fb-4658-f194-47ad2770be4b"
      },
      "execution_count": null,
      "outputs": [
        {
          "output_type": "execute_result",
          "data": {
            "text/plain": [
              "-0.07837084270905519"
            ]
          },
          "metadata": {},
          "execution_count": 17
        }
      ]
    },
    {
      "cell_type": "code",
      "source": [
        "state_sc_pop_sorted = dict(sorted(state_sc_pop.items(), key = lambda x:x[1], reverse = True))\n",
        "print(f\"top 5 states with highest proportion of SC population are\")\n",
        "list(state_sc_pop_sorted.items())[:5]"
      ],
      "metadata": {
        "colab": {
          "base_uri": "https://localhost:8080/"
        },
        "id": "KbiYyrRcnQFs",
        "outputId": "a3845a00-7508-4b69-a880-a44d19fbac5f"
      },
      "execution_count": null,
      "outputs": [
        {
          "output_type": "stream",
          "name": "stdout",
          "text": [
            "top 5 states with highest proportion of SC population are\n"
          ]
        },
        {
          "output_type": "execute_result",
          "data": {
            "text/plain": [
              "[('PUNJAB', 0.3193623997227731),\n",
              " ('HIMACHAL PRADESH', 0.25190855930176287),\n",
              " ('WEST BENGAL', 0.23514662077806445),\n",
              " ('UTTAR PRADESH', 0.20698225041064905),\n",
              " ('HARYANA', 0.201708879748237)]"
            ]
          },
          "metadata": {},
          "execution_count": 18
        }
      ]
    },
    {
      "cell_type": "code",
      "source": [
        "state_st_pop_sorted = dict(sorted(state_st_pop.items(), key = lambda x:x[1], reverse = True))\n",
        "print(f\"top 5 states with highest proportion of ST population are\")\n",
        "list(state_st_pop_sorted.items())[:5]"
      ],
      "metadata": {
        "colab": {
          "base_uri": "https://localhost:8080/"
        },
        "id": "WV1baEGJqiv_",
        "outputId": "ad18514d-cdd6-41f2-ea93-24fae35d9f1c"
      },
      "execution_count": null,
      "outputs": [
        {
          "output_type": "stream",
          "name": "stdout",
          "text": [
            "top 5 states with highest proportion of ST population are\n"
          ]
        },
        {
          "output_type": "execute_result",
          "data": {
            "text/plain": [
              "[('LAKSHADWEEP', 0.9479937338110527),\n",
              " ('MIZORAM', 0.9443213033833209),\n",
              " ('NAGALAND', 0.8647820421712993),\n",
              " ('MEGHALAYA', 0.8614616185506098),\n",
              " ('LADAKH', 0.7954857832432216)]"
            ]
          },
          "metadata": {},
          "execution_count": 19
        }
      ]
    },
    {
      "cell_type": "code",
      "source": [
        "state_sc_st_pop_sorted = dict(sorted(state_sc_st_pop.items(), key = lambda x:x[1], reverse = True))\n",
        "print(f\"top 5 states with highest proportion of SC/ST population are\")\n",
        "list(state_sc_st_pop_sorted.items())[:5]"
      ],
      "metadata": {
        "colab": {
          "base_uri": "https://localhost:8080/"
        },
        "id": "hORYSsOVsPKD",
        "outputId": "fbf0e549-f958-4171-ac3e-fd9dc67c6d16"
      },
      "execution_count": null,
      "outputs": [
        {
          "output_type": "stream",
          "name": "stdout",
          "text": [
            "top 5 states with highest proportion of SC/ST population are\n"
          ]
        },
        {
          "output_type": "execute_result",
          "data": {
            "text/plain": [
              "[('LAKSHADWEEP', 0.9479937338110527),\n",
              " ('MIZORAM', 0.9454313957451927),\n",
              " ('MEGHALAYA', 0.867311180162116),\n",
              " ('NAGALAND', 0.8647820421712993),\n",
              " ('LADAKH', 0.7973305528110861)]"
            ]
          },
          "metadata": {},
          "execution_count": 20
        }
      ]
    },
    {
      "cell_type": "code",
      "source": [
        "print(\"literacy rate of top 5 states with highest proportion of SC/ST population\")\n",
        "i=0\n",
        "for state in state_sc_st_pop_sorted.keys():\n",
        "    print(f\"literacy rate of {state} is {state_literacy[state]}\")\n",
        "    i+=1\n",
        "    if i==5:\n",
        "      break"
      ],
      "metadata": {
        "colab": {
          "base_uri": "https://localhost:8080/"
        },
        "id": "zntwWbHZxZih",
        "outputId": "bab6cb53-57b9-4197-c1b1-06c1396e0761"
      },
      "execution_count": null,
      "outputs": [
        {
          "output_type": "stream",
          "name": "stdout",
          "text": [
            "literacy rate of top 5 states with highest proportion of SC/ST population\n",
            "literacy rate of LAKSHADWEEP is 0.7025886805329362\n",
            "literacy rate of MIZORAM is 0.6194315379245101\n",
            "literacy rate of MEGHALAYA is 0.41001500224646087\n",
            "literacy rate of NAGALAND is 0.5313934481744269\n",
            "literacy rate of LADAKH is 0.5398029086109906\n"
          ]
        }
      ]
    },
    {
      "cell_type": "code",
      "source": [
        "state_literacy_sorted = dict(sorted(state_literacy.items(), key = lambda x : x[1]))\n",
        "print(f\"top 5 state with lowest literacy rate are \")\n",
        "list(state_literacy_sorted.items())[:5]"
      ],
      "metadata": {
        "colab": {
          "base_uri": "https://localhost:8080/"
        },
        "id": "slozLUQ2myYU",
        "outputId": "eff692f9-41c4-49b4-e0cc-62aa699bb8d9"
      },
      "execution_count": null,
      "outputs": [
        {
          "output_type": "stream",
          "name": "stdout",
          "text": [
            "top 5 state with lowest literacy rate are \n"
          ]
        },
        {
          "output_type": "execute_result",
          "data": {
            "text/plain": [
              "[('BIHAR', 0.3205645021070812),\n",
              " ('JHARKHAND', 0.3922190324557309),\n",
              " ('JAMMU AND KASHMIR', 0.3994669280940682),\n",
              " ('ARUNACHAL PRADESH', 0.40023574014238356),\n",
              " ('RAJASTHAN', 0.4030110562550099)]"
            ]
          },
          "metadata": {},
          "execution_count": 22
        }
      ]
    },
    {
      "cell_type": "markdown",
      "source": [
        "Ans:\n",
        "\n",
        "We cannot conclude that the states with higher proportion of\n",
        "SC/ST population has lower literacy rate. There are other reasons\n",
        "for the lower literacy rates. 'LAKSHADWEEP' has the highest\n",
        "SC/ST population, but the literacy rate of 'LAKSHADWEEP' is\n",
        "0.7025886805329362 which is among the top literate states.Pearson correlation is -0.07837084270905519."
      ],
      "metadata": {
        "id": "cgGDumlZiF4c"
      }
    },
    {
      "cell_type": "markdown",
      "source": [
        "##4) What is the proportion of male and female working population in each occupation?"
      ],
      "metadata": {
        "id": "Qo_l74c94MH-"
      }
    },
    {
      "cell_type": "code",
      "source": [
        "print(\"proprotion of male working population = \",df[\"Male working population\"].sum() / df[\"Working population\"].sum())\n",
        "print(\"proprotion of female working population = \",df['Female Woking population'].sum() / df[\"Working population\"].sum())"
      ],
      "metadata": {
        "colab": {
          "base_uri": "https://localhost:8080/"
        },
        "id": "LGp9_wXD4wLJ",
        "outputId": "cc090be8-df3a-4ba3-c571-a65453fe7e2b"
      },
      "execution_count": null,
      "outputs": [
        {
          "output_type": "stream",
          "name": "stdout",
          "text": [
            "proprotion of male working population =  0.6888327589514223\n",
            "proprotion of female working population =  0.3111672410485777\n"
          ]
        }
      ]
    },
    {
      "cell_type": "markdown",
      "source": [
        "### Cultivators"
      ],
      "metadata": {
        "id": "3ZIOEuTG6E9j"
      }
    },
    {
      "cell_type": "code",
      "source": [
        "male_cultivators = df['Number of male main workers as cultivators'].sum() + df['Number of male marginal workers as cultivators'].sum()"
      ],
      "metadata": {
        "id": "0XVLm05e5RxU"
      },
      "execution_count": null,
      "outputs": []
    },
    {
      "cell_type": "code",
      "source": [
        "female_cultivators = df['Number of female main workers as cultivators'].sum() + df['Number of female marginal workers as cultivators'].sum()"
      ],
      "metadata": {
        "id": "ztyFwZMF6oFh"
      },
      "execution_count": null,
      "outputs": []
    },
    {
      "cell_type": "code",
      "source": [
        "print(\"proportion of male wrokers as cultivators =\", male_cultivators/ (male_cultivators + female_cultivators))\n",
        "print(\"proportion of female wrokers as cultivators =\", female_cultivators/ (male_cultivators + female_cultivators))"
      ],
      "metadata": {
        "colab": {
          "base_uri": "https://localhost:8080/"
        },
        "id": "bZl3wLn47FKb",
        "outputId": "21c1d8be-78a6-46a8-dbb2-5623e0a74afa"
      },
      "execution_count": null,
      "outputs": [
        {
          "output_type": "stream",
          "name": "stdout",
          "text": [
            "proportion of male wrokers as cultivators = 0.6966072228096949\n",
            "proportion of female wrokers as cultivators = 0.3033927771903051\n"
          ]
        }
      ]
    },
    {
      "cell_type": "markdown",
      "source": [
        "### Agriculture Labours"
      ],
      "metadata": {
        "id": "Onw260VN72vY"
      }
    },
    {
      "cell_type": "code",
      "source": [
        "male_agri_labours = df['Number of male main workers as agricultural labourers'].sum() + df['Number of male marginal workers as agricultural labourers'].sum()\n",
        "female_agri_labours = df['Number of female main workers as agricultural labourers'].sum() + df['Number of female marginal workers as agricultural labourers'].sum()"
      ],
      "metadata": {
        "id": "mQ4G-2BV77Q6"
      },
      "execution_count": null,
      "outputs": []
    },
    {
      "cell_type": "code",
      "source": [
        "print(\"proportion of male wrokers as agricultural labourers =\", male_agri_labours/ (male_agri_labours + female_agri_labours))\n",
        "print(\"proportion of female wrokers as agricultural labourers =\",female_agri_labours/ (male_agri_labours + female_agri_labours))"
      ],
      "metadata": {
        "colab": {
          "base_uri": "https://localhost:8080/"
        },
        "id": "l0_hXFdr8MLm",
        "outputId": "2ef630dd-08ce-454e-8e53-c0c9b2462d47"
      },
      "execution_count": null,
      "outputs": [
        {
          "output_type": "stream",
          "name": "stdout",
          "text": [
            "proportion of male wrokers as agricultural labourers = 0.5732719746737632\n",
            "proportion of female wrokers as agricultural labourers = 0.42672802532623677\n"
          ]
        }
      ]
    },
    {
      "cell_type": "markdown",
      "source": [
        "### House hold industry"
      ],
      "metadata": {
        "id": "75Q2Eb4Q8gYD"
      }
    },
    {
      "cell_type": "code",
      "source": [
        "male_house_hold = df['Number of male main workers in the household industry'].sum() + df['Number of male marginal workers in the household industry'].sum()\n",
        "female_house_hold = df['Number of female main workers in the household industry'].sum() + df['Number of female marginal workers in the household industry'].sum()"
      ],
      "metadata": {
        "id": "OE21oSi38mAz"
      },
      "execution_count": null,
      "outputs": []
    },
    {
      "cell_type": "code",
      "source": [
        "print(\"proportion of male wrokers in the household industry =\", male_house_hold/ (male_house_hold + female_house_hold))\n",
        "print(\"proportion of female wrokers in the household industry =\",female_house_hold/ (male_house_hold + female_house_hold))"
      ],
      "metadata": {
        "colab": {
          "base_uri": "https://localhost:8080/"
        },
        "id": "4TdKnXWm89C_",
        "outputId": "44def777-c855-4408-cfeb-a48912a2fe58"
      },
      "execution_count": null,
      "outputs": [
        {
          "output_type": "stream",
          "name": "stdout",
          "text": [
            "proportion of male wrokers in the household industry = 0.5331233400868165\n",
            "proportion of female wrokers in the household industry = 0.4668766599131835\n"
          ]
        }
      ]
    },
    {
      "cell_type": "markdown",
      "source": [
        "### other workers"
      ],
      "metadata": {
        "id": "utpU1Quv9VGp"
      }
    },
    {
      "cell_type": "code",
      "source": [
        "male_other = df['Number of male main workers as Other workers'].sum() + df['Number of male marginal workers as Other workers'].sum()\n",
        "female_other = df['Number of female main workers as Other workers'].sum() + df['Number of female marginal workers as Other workers'].sum()"
      ],
      "metadata": {
        "id": "yIUojX2J9Y8R"
      },
      "execution_count": null,
      "outputs": []
    },
    {
      "cell_type": "code",
      "source": [
        "print(\"proportion of male wrokers in other industry =\", male_other/ (male_other + female_other))\n",
        "print(\"proportion of female wrokers in other industry =\",female_other/ (male_other + female_other))"
      ],
      "metadata": {
        "colab": {
          "base_uri": "https://localhost:8080/"
        },
        "id": "-OW_DUIx9tj6",
        "outputId": "120dc947-75e9-4a48-bd89-ca255c3fe3d9"
      },
      "execution_count": null,
      "outputs": [
        {
          "output_type": "stream",
          "name": "stdout",
          "text": [
            "proportion of male wrokers in other industry = 0.7816963953323609\n",
            "proportion of female wrokers in other industry = 0.21830360466763907\n"
          ]
        }
      ]
    },
    {
      "cell_type": "markdown",
      "source": [
        "summary:\n",
        "\n",
        "proprotion of male working population = 0.6888327589514223\n",
        "proprotion of female working population = 0.3111672410485777\n",
        "\n",
        "proportion of male wrokers as cultivators = 0.6966072228096949\n",
        "proportion of female wrokers as cultivators =\n",
        "0.3033927771903051\n",
        "\n",
        "proportion of male wrokers as agricultural labourers =\n",
        "0.5732719746737632\n",
        "proportion of female wrokers as agricultural labourers =\n",
        "0.42672802532623677\n",
        "\n",
        "proportion of male wrokers in the household industry =\n",
        "0.5331233400868165\n",
        "proportion of female wrokers in the household industry =\n",
        "0.4668766599131835\n",
        "\n",
        "proportion of male wrokers in other industry =\n",
        "0.7816963953323609\n",
        "proportion of female wrokers in other industry =\n",
        "0.21830360466763907\n",
        "\n",
        "Here, we can see that female participation as cultivators and in\n",
        "other industries is very less compared to male participation.\n",
        "Female are more inclined to house hold industry and as\n",
        "agricultural labourers."
      ],
      "metadata": {
        "id": "zl62Z2WJiXRR"
      }
    },
    {
      "cell_type": "markdown",
      "source": [
        "#5) Which state has more number of workers in agriculture field?\n"
      ],
      "metadata": {
        "id": "Lc7PBzmk_8Dk"
      }
    },
    {
      "cell_type": "code",
      "source": [
        "state_agri = {}\n",
        "state_agri_proportion ={}\n",
        "\n",
        "for state in states:\n",
        "    state_df = df[df[\"State\"]==state]\n",
        "    state_agri[state] = state_df[\"Number of main workers as cultivators\"].sum() + state_df[\"Number of marginal workers as cultivators\"].sum() + state_df[\"Number of main workers as agricultural labourers\"].sum() + state_df[\"Number of marginal workers as agricultural labourers\"].sum()\n",
        "    state_agri_proportion[state] = state_agri[state]/ state_df['Working population'].sum()"
      ],
      "metadata": {
        "id": "B2F_BLHjACXy"
      },
      "execution_count": null,
      "outputs": []
    },
    {
      "cell_type": "code",
      "source": [
        "state_agri_sorted = dict(sorted(state_agri.items(), key = lambda x:x[1], reverse= True))\n",
        "state_agri_proportion_sorted = dict(sorted(state_agri_proportion.items(), key = lambda x:x[1], reverse= True))"
      ],
      "metadata": {
        "id": "3Lg9u7egCLVR"
      },
      "execution_count": null,
      "outputs": []
    },
    {
      "cell_type": "code",
      "source": [
        "print(\"top 5 states with highest number of workers in agricultural field\")\n",
        "list(state_agri_sorted.items())[:5]"
      ],
      "metadata": {
        "colab": {
          "base_uri": "https://localhost:8080/"
        },
        "id": "5SdM7aJ6C9lY",
        "outputId": "98f1e3d8-6b6f-4cd6-eaf3-706955d16960"
      },
      "execution_count": null,
      "outputs": [
        {
          "output_type": "stream",
          "name": "stdout",
          "text": [
            "top 5 states with highest number of workers in agricultural field\n"
          ]
        },
        {
          "output_type": "execute_result",
          "data": {
            "text/plain": [
              "[('UTTAR PRADESH', 38997111),\n",
              " ('MAHARASHTRA', 26055513),\n",
              " ('BIHAR', 25541875),\n",
              " ('MADHYA PRADESH', 22036813),\n",
              " ('RAJASTHAN', 18558534)]"
            ]
          },
          "metadata": {},
          "execution_count": 35
        }
      ]
    },
    {
      "cell_type": "code",
      "source": [
        "print(\"top 5 states with highest proportion of workers in agricultural field\")\n",
        "list(state_agri_proportion_sorted.items())[:5]"
      ],
      "metadata": {
        "colab": {
          "base_uri": "https://localhost:8080/"
        },
        "id": "eMG0IXFjDMDD",
        "outputId": "f9b4e32e-1802-4217-cd2c-8210dea18f97"
      },
      "execution_count": null,
      "outputs": [
        {
          "output_type": "stream",
          "name": "stdout",
          "text": [
            "top 5 states with highest proportion of workers in agricultural field\n"
          ]
        },
        {
          "output_type": "execute_result",
          "data": {
            "text/plain": [
              "[('CHHATTISGARH', 0.7468398982777412),\n",
              " ('BIHAR', 0.7355474315944308),\n",
              " ('MADHYA PRADESH', 0.6978277350577956),\n",
              " ('JHARKHAND', 0.6299214690424098),\n",
              " ('HIMACHAL PRADESH', 0.6285009195313171)]"
            ]
          },
          "metadata": {},
          "execution_count": 36
        }
      ]
    },
    {
      "cell_type": "markdown",
      "source": [
        "Around 75 % of workers in 'CHHATTISGARH' and 'BIHAR' are\n",
        "working in agricultural field. More than 60 % of working class of\n",
        "'MADHYA PRADESH', 'JHARKHAND' and 'HIMACHAL\n",
        "PRADESH' are in the agricultural field. These states mainly rely\n",
        "on agriculture."
      ],
      "metadata": {
        "id": "NMhrJELQiio4"
      }
    },
    {
      "cell_type": "markdown",
      "source": [
        "#6) Urban/ Rural, which region has the largest proportion of house hold workers?\n"
      ],
      "metadata": {
        "id": "bwJTdDAWFAA1"
      }
    },
    {
      "cell_type": "code",
      "source": [
        "rural_urban = ['Rural','Urban']\n",
        "\n",
        "\n",
        "\n",
        "for area in rural_urban:\n",
        "    area_df = df[df[\"Rural or Urban\"] == area]\n",
        "\n",
        "    if area == 'Rural':\n",
        "        rural_house_hold = area_df['Number of main workers in the household industry'].sum() + area_df['Number of marginal workers in the household industry'].sum()\n",
        "        rural_house_hold_proportion = rural_house_hold / area_df[\"Working population\"].sum()\n",
        "\n",
        "    if area == 'Urban':\n",
        "        urban_house_hold = area_df['Number of main workers in the household industry'].sum() + area_df['Number of marginal workers in the household industry'].sum()\n",
        "        urban_house_hold_proprotion = urban_house_hold/ area_df[\"Working population\"].sum()\n"
      ],
      "metadata": {
        "id": "bYi1hv65GMmq"
      },
      "execution_count": null,
      "outputs": []
    },
    {
      "cell_type": "code",
      "source": [
        "print(f\"Rural \\n Number of people in house hold industry = {rural_house_hold} \\n Proportion of number of people in house hold industry = {rural_house_hold_proportion}\")\n",
        "print(f\"Urban \\n Number of people in house hold industry = {urban_house_hold} \\n Proportion of number of people in house hold industry = {urban_house_hold_proprotion}\")"
      ],
      "metadata": {
        "colab": {
          "base_uri": "https://localhost:8080/"
        },
        "id": "jF00g5-GGO5R",
        "outputId": "36a83646-c755-4784-f1d6-2d8b97ae3a46"
      },
      "execution_count": null,
      "outputs": [
        {
          "output_type": "stream",
          "name": "stdout",
          "text": [
            "Rural \n",
            " Number of people in house hold industry = 11949480 \n",
            " Proportion of number of people in house hold industry = 0.03426442064119796\n",
            "Urban \n",
            " Number of people in house hold industry = 6389205 \n",
            " Proportion of number of people in house hold industry = 0.04798334910296922\n"
          ]
        }
      ]
    },
    {
      "cell_type": "markdown",
      "source": [
        "Ans:\n",
        "\n",
        "Rural :\n",
        "\n",
        "Number of people in house hold industry = 11949480\n",
        "Proportion of number of people in house hold industry =\n",
        "0.03426442064119796\n",
        "Urban :\n",
        "\n",
        "Number of people in house hold industry = 6389205\n",
        "Proportion of number of people in house hold industry =\n",
        "0.04798334910296922\n",
        "\n",
        "More number of people are in house hold industry in rural areas\n",
        "compared to urban areas, but urban areas has more proportion of\n",
        "people in house hold industry than that of rural area."
      ],
      "metadata": {
        "id": "FxR--7s2imCI"
      }
    },
    {
      "cell_type": "code",
      "source": [],
      "metadata": {
        "id": "45-wz5MJJUP6"
      },
      "execution_count": null,
      "outputs": []
    },
    {
      "cell_type": "markdown",
      "source": [
        "##7)Is there a relationship between the number of marginal workers and the population in the age group 0 to 6 years? What is the proportion of female to male marginal workers?"
      ],
      "metadata": {
        "id": "JYLlYfM9MCw4"
      }
    },
    {
      "cell_type": "code",
      "source": [
        "state_marginal_workers = {}\n",
        "state_pop_0_6 ={}\n",
        "for state in states:\n",
        "    state_df = df[df['State'] == state]\n",
        "\n",
        "    state_marginal_workers[state] = state_df['Number of marginal workers'].sum()\n",
        "\n",
        "    state_pop_0_6[state] = state_df['Population in the age group 0 to 6 years'].sum()\n"
      ],
      "metadata": {
        "id": "Uq1zvoW6MHAm"
      },
      "execution_count": null,
      "outputs": []
    },
    {
      "cell_type": "code",
      "source": [
        "state_pop_0_6_sorted = dict(sorted(state_pop_0_6.items(), key =lambda x:x[1], reverse = True))\n",
        "state_marginal_workers_sorted = dict(sorted(state_marginal_workers.items(), key =lambda x:x[1], reverse = True))\n",
        "\n"
      ],
      "metadata": {
        "id": "KWUwMEzgMztl"
      },
      "execution_count": null,
      "outputs": []
    },
    {
      "cell_type": "code",
      "source": [
        "state_marginal_workers_sorted.keys()"
      ],
      "metadata": {
        "colab": {
          "base_uri": "https://localhost:8080/"
        },
        "id": "m7Sy7lq_NH9H",
        "outputId": "744a57a9-2c0d-4ab4-c2b2-a7e08cb1776c"
      },
      "execution_count": null,
      "outputs": [
        {
          "output_type": "execute_result",
          "data": {
            "text/plain": [
              "dict_keys(['UTTAR PRADESH', 'BIHAR', 'WEST BENGAL', 'MADHYA PRADESH', 'RAJASTHAN', 'ODISHA', 'JHARKHAND', 'MAHARASHTRA', 'TAMIL NADU', 'KARNATAKA', 'GUJARAT', 'CHHATTISGARH', 'ANDHRA PRADESH', 'ASSAM', 'TELANGANA', 'KERALA', 'HARYANA', 'JAMMU AND KASHMIR', 'HIMACHAL PRADESH', 'PUNJAB', 'UTTARAKHAND', 'TRIPURA', 'MANIPUR', 'DELHI', 'MEGHALAYA', 'NAGALAND', 'ARUNACHAL PRADESH', 'GOA', 'SIKKIM', 'MIZORAM', 'PUDUCHERRY', 'LADAKH', 'THE DADRA AND NAGAR HAVELI AND DAMAN AND DIU', 'ANDAMAN AND NICOBAR ISLANDS', 'CHANDIGARH', 'LAKSHADWEEP'])"
            ]
          },
          "metadata": {},
          "execution_count": 41
        }
      ]
    },
    {
      "cell_type": "code",
      "source": [
        "state_pop_0_6_sorted.keys()"
      ],
      "metadata": {
        "colab": {
          "base_uri": "https://localhost:8080/"
        },
        "id": "61Dc1k5dNeoz",
        "outputId": "cc193ca0-e88b-4162-880e-1b7ef166de16"
      },
      "execution_count": null,
      "outputs": [
        {
          "output_type": "execute_result",
          "data": {
            "text/plain": [
              "dict_keys(['UTTAR PRADESH', 'BIHAR', 'MAHARASHTRA', 'MADHYA PRADESH', 'RAJASTHAN', 'WEST BENGAL', 'GUJARAT', 'TAMIL NADU', 'KARNATAKA', 'JHARKHAND', 'ODISHA', 'ANDHRA PRADESH', 'ASSAM', 'TELANGANA', 'CHHATTISGARH', 'KERALA', 'HARYANA', 'PUNJAB', 'DELHI', 'JAMMU AND KASHMIR', 'UTTARAKHAND', 'HIMACHAL PRADESH', 'MEGHALAYA', 'TRIPURA', 'MANIPUR', 'NAGALAND', 'ARUNACHAL PRADESH', 'MIZORAM', 'GOA', 'PUDUCHERRY', 'CHANDIGARH', 'THE DADRA AND NAGAR HAVELI AND DAMAN AND DIU', 'SIKKIM', 'ANDAMAN AND NICOBAR ISLANDS', 'LADAKH', 'LAKSHADWEEP'])"
            ]
          },
          "metadata": {},
          "execution_count": 42
        }
      ]
    },
    {
      "cell_type": "code",
      "source": [
        "pearson_correlation(df[\"Number of marginal workers\"], df[\"Population in the age group 0 to 6 years\"])"
      ],
      "metadata": {
        "colab": {
          "base_uri": "https://localhost:8080/"
        },
        "id": "tFDxZBqyR8gP",
        "outputId": "7334e109-1710-4df8-af5e-c08337baea88"
      },
      "execution_count": null,
      "outputs": [
        {
          "output_type": "execute_result",
          "data": {
            "text/plain": [
              "0.894432078970758"
            ]
          },
          "metadata": {},
          "execution_count": 43
        }
      ]
    },
    {
      "cell_type": "code",
      "source": [
        "len(states)"
      ],
      "metadata": {
        "colab": {
          "base_uri": "https://localhost:8080/"
        },
        "id": "tHYkZ-gkV43v",
        "outputId": "21d52c95-5e8b-48ae-f429-ddf5c0e4c08d"
      },
      "execution_count": null,
      "outputs": [
        {
          "output_type": "execute_result",
          "data": {
            "text/plain": [
              "36"
            ]
          },
          "metadata": {},
          "execution_count": 44
        }
      ]
    },
    {
      "cell_type": "code",
      "source": [
        "\n",
        "ind = arange(36)\n",
        "width = 0.25\n",
        "\n",
        "fig, ax = plt.subplots()\n",
        "plt.xlim(0,3.5*1e7)\n",
        "rects1 = ax.barh(ind, list(state_marginal_workers.values()), width,color='g',align='center')\n",
        "rects2 = ax.barh(ind+width, list(state_pop_0_6.values()),width,color='b',align='center')\n",
        "ax.set_xlabel('Population')\n",
        "ax.set_title('Marginal workers and population in 0 to 6 years in each state')\n",
        "ax.set_yticks(ind + width / 2)\n",
        "ax.set_yticklabels((x for x in states))\n",
        "ax.legend((rects1[0], rects2[0] ), ('Marginal Workers', 'Population in 0 to 6 years'))\n",
        "plt.rcParams.update({'font.size': 20})\n",
        "plt.rcParams['figure.figsize'] = (20,25)\n",
        "plt.show()"
      ],
      "metadata": {
        "colab": {
          "base_uri": "https://localhost:8080/",
          "height": 472
        },
        "id": "HD3ukhziVia_",
        "outputId": "8ea17b72-7942-4d3f-d1f8-1ebd41fa32da"
      },
      "execution_count": null,
      "outputs": [
        {
          "output_type": "display_data",
          "data": {
            "text/plain": [
              "<Figure size 640x480 with 1 Axes>"
            ],
            "image/png": "[encoded data removed]"
          },
          "metadata": {}
        }
      ]
    },
    {
      "cell_type": "markdown",
      "source": [
        "Pearson correlation between population between 0-6 years\n",
        "and number of marginal workers in each state in\n",
        "0.894432078970758.\n",
        "Top five states with higher population in 0-6 years are,\n",
        "'UTTAR PRADESH', 'BIHAR', 'MAHARASHTRA', 'MADHYA\n",
        "PRADESH', 'RAJASTHAN'.\n",
        "Top fives states with higher number of marginal wokers are,\n",
        "'UTTAR PRADESH', 'BIHAR', 'WEST BENGAL', 'MADHYA\n",
        "PRADESH', 'RAJASTHAN'.\n",
        "We can conclude that wherever the population in 0-6 years is\n",
        "higher the number of marginal workers are also higher."
      ],
      "metadata": {
        "id": "n2tNdafZixOy"
      }
    },
    {
      "cell_type": "markdown",
      "source": [
        "## 8) Among the rural areas, do sub-districts with a higher ratio of non-workers to working population have a lower literacy rate?\n"
      ],
      "metadata": {
        "id": "FMtw3p_qpD7l"
      }
    },
    {
      "cell_type": "code",
      "source": [
        "sub_districts = list(df['Sub-District'].value_counts().index)\n",
        "sub_districts[:5]"
      ],
      "metadata": {
        "colab": {
          "base_uri": "https://localhost:8080/"
        },
        "id": "qtylzaG4pJ6l",
        "outputId": "a629438e-4907-4e3c-ec8e-9efdb9386693"
      },
      "execution_count": null,
      "outputs": [
        {
          "output_type": "execute_result",
          "data": {
            "text/plain": [
              "['Unknown SubDistricts of India', 'Lalganj', 'Fatehpur', 'Harraiya', 'Basti']"
            ]
          },
          "metadata": {},
          "execution_count": 23
        }
      ]
    },
    {
      "cell_type": "code",
      "source": [
        "rural_df = df.loc[df[\"Rural or Urban\"] == \"Rural\"]\n",
        "\n",
        "# Calculate the total working population for each sub-district\n",
        "sub_dist_working_pop = rural_df.groupby(\"Sub-District\")[\"Working population\"].sum()\n",
        "\n",
        "# Calculate the total non-working population for each sub-district\n",
        "sub_dist_non_work_pop = rural_df.groupby(\"Sub-District\")[\"Number of Non workers\"].sum()\n",
        "\n",
        "# Calculate the total population for each sub-district\n",
        "sub_dist_pop = rural_df.groupby(\"Sub-District\")[\"Population\"].sum() - rural_df.groupby(\"Sub-District\")['Population in the age group 0 to 6 years'].sum()\n",
        "\n",
        "# Calculate the total literate population for each sub-district\n",
        "sub_dist_literate_pop = rural_df.groupby(\"Sub-District\")[\"Literate population \"].sum()\n",
        "\n",
        "# Calculate the non-working to working ratio for each sub-district\n",
        "sub_dist_non_work_working = sub_dist_non_work_pop / (sub_dist_working_pop + sub_dist_non_work_pop)\n",
        "\n",
        "# Calculate the literacy rate for each sub-district\n",
        "sub_dist_literacy = sub_dist_literate_pop / sub_dist_pop\n",
        "\n",
        "# Convert the series to dictionaries\n",
        "sub_dist_non_work_working = sub_dist_non_work_working.to_dict()\n",
        "sub_dist_literacy = sub_dist_literacy.to_dict()\n"
      ],
      "metadata": {
        "id": "mCezMcscvfyg"
      },
      "execution_count": null,
      "outputs": []
    },
    {
      "cell_type": "code",
      "source": [
        "pearson_correlation(list(sub_dist_non_work_working.values()),list(sub_dist_literacy.values()))"
      ],
      "metadata": {
        "colab": {
          "base_uri": "https://localhost:8080/"
        },
        "id": "Cg5mmk4Pwtbh",
        "outputId": "26739bff-d327-4002-c37c-d359931ab36e"
      },
      "execution_count": null,
      "outputs": [
        {
          "output_type": "execute_result",
          "data": {
            "text/plain": [
              "0.16123698961859362"
            ]
          },
          "metadata": {},
          "execution_count": 25
        }
      ]
    },
    {
      "cell_type": "code",
      "source": [
        "print(\"top 5 sub-district where umemployment is highest\")\n",
        "sub_dist_unemployment = list(dict(sorted(sub_dist_non_work_working.items(), key =lambda x:x[1] ,reverse =True)).items())\n",
        "sub_dist_unemployment[:5]"
      ],
      "metadata": {
        "colab": {
          "base_uri": "https://localhost:8080/"
        },
        "id": "cAo2_scvx8YK",
        "outputId": "d0f31370-0a79-4e82-eb41-67611a3786f8"
      },
      "execution_count": null,
      "outputs": [
        {
          "output_type": "stream",
          "name": "stdout",
          "text": [
            "top 5 sub-district where umemployment is highest\n"
          ]
        },
        {
          "output_type": "execute_result",
          "data": {
            "text/plain": [
              "[('Drugmulla', 0.8085394581861013),\n",
              " ('Kannur', 0.7996475580809898),\n",
              " ('Lalpora', 0.7915970954840212),\n",
              " ('Trehgam', 0.7895379605129249),\n",
              " ('Laroka', 0.7844311377245509)]"
            ]
          },
          "metadata": {},
          "execution_count": 26
        }
      ]
    },
    {
      "cell_type": "code",
      "source": [
        "for sub_dist,_  in sub_dist_unemployment[:5]:\n",
        "    print(f\"literacy of {sub_dist} is {sub_dist_literacy[sub_dist]}\")\n"
      ],
      "metadata": {
        "colab": {
          "base_uri": "https://localhost:8080/"
        },
        "id": "Oud_PObzzgUY",
        "outputId": "00095b4a-5c4d-45d1-fd48-c8eebac5324a"
      },
      "execution_count": null,
      "outputs": [
        {
          "output_type": "stream",
          "name": "stdout",
          "text": [
            "literacy of Drugmulla is 0.694099263338046\n",
            "literacy of Kannur is 0.9501434115066644\n",
            "literacy of Lalpora is 0.5939135390939394\n",
            "literacy of Trehgam is 0.652916703549615\n",
            "literacy of Laroka is 0.6804850073734229\n"
          ]
        }
      ]
    },
    {
      "cell_type": "code",
      "source": [
        "print('sub-district with least literacy rate')\n",
        "list(dict(sorted(sub_dist_literacy.items(), key =lambda x:x[1]) ).items())[:5]"
      ],
      "metadata": {
        "colab": {
          "base_uri": "https://localhost:8080/"
        },
        "id": "l6aCZrfJwrpE",
        "outputId": "8c5098bb-c859-40ad-d2ee-817f54f2c7d1"
      },
      "execution_count": null,
      "outputs": [
        {
          "output_type": "stream",
          "name": "stdout",
          "text": [
            "sub-district with least literacy rate\n"
          ]
        },
        {
          "output_type": "execute_result",
          "data": {
            "text/plain": [
              "[('Pumao Circle', 0.14796879203658864),\n",
              " ('Konta', 0.2043817831423065),\n",
              " ('Kotiya', 0.22022194821208385),\n",
              " ('Bastanar', 0.223642979884767),\n",
              " ('Katekalyan', 0.23300265474360765)]"
            ]
          },
          "metadata": {},
          "execution_count": 28
        }
      ]
    },
    {
      "cell_type": "markdown",
      "source": [
        "Pearson-correlation between unemployment and literacy rate is\n",
        "0.16123698961859362.\n",
        "It is evident that literacy rate has less impact on the\n",
        "unemployment. Also, Kannur which is second in unemployment\n",
        "ratio has literacy of 0.9501. All other sub-districts with higher\n",
        "unemployment has literacy rate around 60%."
      ],
      "metadata": {
        "id": "WdKZKsQii1If"
      }
    },
    {
      "cell_type": "markdown",
      "source": [
        "## 9) What is the distribution of occupation in rural and urban areas?"
      ],
      "metadata": {
        "id": "_iHkHvy-safg"
      }
    },
    {
      "cell_type": "code",
      "source": [
        "cultivators = df.groupby(\"Rural or Urban\")[\"Number of main workers as cultivators\"].sum() + df.groupby(\"Rural or Urban\")[\"Number of marginal workers as cultivators\"].sum()\n",
        "agriculture_labours = df.groupby(\"Rural or Urban\")[\"Number of main workers as agricultural labourers\"].sum() + df.groupby(\"Rural or Urban\")[\"Number of marginal workers as agricultural labourers\"].sum()\n",
        "house_hold_ind = df.groupby(\"Rural or Urban\")[\"Number of main workers in the household industry\"].sum() + df.groupby(\"Rural or Urban\")[\"Number of marginal workers in the household industry\"].sum()\n",
        "other_ind =  df.groupby(\"Rural or Urban\")['Number of  main workers as Other workers'].sum() + df.groupby(\"Rural or Urban\")['Number of marginal workers as Other workers'].sum()\n"
      ],
      "metadata": {
        "id": "6upi7jMR6AYE"
      },
      "execution_count": null,
      "outputs": []
    },
    {
      "cell_type": "code",
      "source": [
        "\n",
        "labels = ['Cultivators', 'Agricultural labourers', 'house hold industry', 'Other industry']\n",
        "sizes = [cultivators[\"Rural\"],agriculture_labours[\"Rural\"], house_hold_ind[\"Rural\"],other_ind[\"Rural\"]  ]\n",
        "\n",
        "# Create the pie chart\n",
        "plt.pie(sizes, labels=labels, autopct='%1.1f%%')\n",
        "plt.axis('equal')\n",
        "plt.title(\"Rural\")\n",
        "plt.show()"
      ],
      "metadata": {
        "colab": {
          "base_uri": "https://localhost:8080/",
          "height": 1000
        },
        "id": "wDxISLTm99Q3",
        "outputId": "db0b511d-a11e-42cf-ebb0-30dc93f9bbe8"
      },
      "execution_count": null,
      "outputs": [
        {
          "output_type": "display_data",
          "data": {
            "text/plain": [
              "<Figure size 2000x2500 with 1 Axes>"
            ],
            "image/png": "[encoded data removed]"
          },
          "metadata": {}
        }
      ]
    },
    {
      "cell_type": "code",
      "source": [
        "labels = ['Cultivators', 'Agricultural labourers', 'house hold industry', 'Other industry']\n",
        "sizes = [cultivators[\"Urban\"],agriculture_labours[\"Urban\"], house_hold_ind[\"Urban\"],other_ind[\"Urban\"]  ]\n",
        "\n",
        "# Create the pie chart\n",
        "plt.pie(sizes, labels=labels, autopct='%1.1f%%')\n",
        "plt.axis('equal')\n",
        "plt.title(\"Urban\")\n",
        "plt.show()"
      ],
      "metadata": {
        "colab": {
          "base_uri": "https://localhost:8080/",
          "height": 969
        },
        "id": "8TEur9n7-8i7",
        "outputId": "50eacadc-d2ea-4d43-80ae-42adc865f16b"
      },
      "execution_count": null,
      "outputs": [
        {
          "output_type": "display_data",
          "data": {
            "text/plain": [
              "<Figure size 2000x2500 with 1 Axes>"
            ],
            "image/png": "[encoded data removed]"
          },
          "metadata": {}
        }
      ]
    },
    {
      "cell_type": "markdown",
      "source": [
        "Ans:\n",
        "\n",
        "From the above diagrams it is clear that agriculture field\n",
        "(cultivators and agricultural labourers) is the major occupation in\n",
        "rural areas. Whereas, in urban areas agriculture field is least\n",
        "popular and majority of occupation belongs to other industries.\n",
        "House hold distribution has small proportion in both urban and\n",
        "rural areas."
      ],
      "metadata": {
        "id": "-V0j6rqWi4mR"
      }
    },
    {
      "cell_type": "markdown",
      "source": [
        "## 10) Among the Urban areas, do sub-districts with a higher ratio of non-workers to working population have a lower literacy rate?\n"
      ],
      "metadata": {
        "id": "H-tAYZK9tlI1"
      }
    },
    {
      "cell_type": "code",
      "source": [
        "urban_df = df.loc[df[\"Rural or Urban\"] == \"Urban\"]\n",
        "\n",
        "# Calculate the total working population for each sub-district\n",
        "urban_sub_dist_working_pop = urban_df.groupby(\"Sub-District\")[\"Working population\"].sum()\n",
        "\n",
        "# Calculate the total non-working population for each sub-district\n",
        "urban_sub_dist_non_work_pop = urban_df.groupby(\"Sub-District\")[\"Number of Non workers\"].sum()\n",
        "\n",
        "# Calculate the total population for each sub-district\n",
        "urban_sub_dist_pop = urban_df.groupby(\"Sub-District\")[\"Population\"].sum() - urban_df.groupby(\"Sub-District\")['Population in the age group 0 to 6 years'].sum()\n",
        "\n",
        "# Calculate the total literate population for each sub-district\n",
        "urban_sub_dist_literate_pop = urban_df.groupby(\"Sub-District\")[\"Literate population \"].sum()\n",
        "\n",
        "# Calculate the non-working to working ratio for each sub-district\n",
        "urban_sub_dist_non_work_working = urban_sub_dist_non_work_pop / (urban_sub_dist_working_pop + urban_sub_dist_non_work_pop)\n",
        "\n",
        "# Calculate the literacy rate for each sub-district\n",
        "urban_sub_dist_literacy = urban_sub_dist_literate_pop / urban_sub_dist_pop\n",
        "\n",
        "# Convert the series to dictionaries\n",
        "urban_sub_dist_non_work_working = urban_sub_dist_non_work_working.to_dict()\n",
        "urban_sub_dist_literacy = urban_sub_dist_literacy.to_dict()"
      ],
      "metadata": {
        "id": "Lis5T7753GJh"
      },
      "execution_count": null,
      "outputs": []
    },
    {
      "cell_type": "code",
      "source": [
        "pearson_correlation(list(urban_sub_dist_non_work_working.values()),list(urban_sub_dist_literacy.values()))"
      ],
      "metadata": {
        "colab": {
          "base_uri": "https://localhost:8080/"
        },
        "id": "Xgx3eI563tfr",
        "outputId": "0f1fb11d-82e5-4560-fe01-412c718eb57c"
      },
      "execution_count": null,
      "outputs": [
        {
          "output_type": "execute_result",
          "data": {
            "text/plain": [
              "-0.09807308416769125"
            ]
          },
          "metadata": {},
          "execution_count": 30
        }
      ]
    },
    {
      "cell_type": "code",
      "source": [
        "print(\"top 5 urban sub-district where umemployment is highest\")\n",
        "urban_sub_dist_unemployment = list(dict(sorted(urban_sub_dist_non_work_working.items(), key =lambda x:x[1] ,reverse =True)).items())\n",
        "urban_sub_dist_unemployment[:5]"
      ],
      "metadata": {
        "colab": {
          "base_uri": "https://localhost:8080/"
        },
        "id": "YhW523WW35nm",
        "outputId": "a9947306-1537-4ae9-813f-4f6bdcd58d8a"
      },
      "execution_count": null,
      "outputs": [
        {
          "output_type": "stream",
          "name": "stdout",
          "text": [
            "top 5 urban sub-district where umemployment is highest\n"
          ]
        },
        {
          "output_type": "execute_result",
          "data": {
            "text/plain": [
              "[('Kralpora', 0.8666768947529917),\n",
              " ('Lalpora', 0.8240784499054821),\n",
              " ('Andrott', 0.8038602448396033),\n",
              " ('Badli', 0.7975553857906799),\n",
              " ('Tirtol', 0.7919545353242701)]"
            ]
          },
          "metadata": {},
          "execution_count": 31
        }
      ]
    },
    {
      "cell_type": "code",
      "source": [
        "for sub_dist,_  in urban_sub_dist_unemployment[:5]:\n",
        "      print(f\"literacy of {sub_dist} is {urban_sub_dist_literacy[sub_dist]}\")"
      ],
      "metadata": {
        "colab": {
          "base_uri": "https://localhost:8080/"
        },
        "id": "ePQazFRN3_pm",
        "outputId": "2653b89d-3abe-4f15-da61-f22c69c6be86"
      },
      "execution_count": null,
      "outputs": [
        {
          "output_type": "stream",
          "name": "stdout",
          "text": [
            "literacy of Kralpora is 0.6644709757101688\n",
            "literacy of Lalpora is 0.6431591408760359\n",
            "literacy of Andrott is 0.9060970636215334\n",
            "literacy of Badli is 0.8748882931188561\n",
            "literacy of Tirtol is 0.9064628035461905\n"
          ]
        }
      ]
    },
    {
      "cell_type": "code",
      "source": [
        "print(\"top 5 urban sub-district where literacy rate is lowest\")\n",
        "list(dict(sorted(urban_sub_dist_literacy.items(), key =lambda x:x[1] )).items())[:5]"
      ],
      "metadata": {
        "colab": {
          "base_uri": "https://localhost:8080/"
        },
        "id": "B1i1NS-Q9uzE",
        "outputId": "aa5e19e6-9371-4c09-df66-f2f848637506"
      },
      "execution_count": null,
      "outputs": [
        {
          "output_type": "stream",
          "name": "stdout",
          "text": [
            "top 5 urban sub-district where literacy rate is lowest\n"
          ]
        },
        {
          "output_type": "execute_result",
          "data": {
            "text/plain": [
              "[('Hindoli', 0.2236255572065379),\n",
              " ('Kanadiya', 0.3270440251572327),\n",
              " ('Gandhi Nagar', 0.3816326530612245),\n",
              " ('Sahaswan', 0.39614270191959433),\n",
              " ('ARJYAPALLI MARINE', 0.40304127443881244)]"
            ]
          },
          "metadata": {},
          "execution_count": 34
        }
      ]
    },
    {
      "cell_type": "markdown",
      "source": [
        "Ans:\n",
        "\n",
        "Pearson correlation between literacy rate and ratio of non working\n",
        "population to (working+ non working population) is\n",
        "-0.09807308416769125.\n",
        "From the above results we cannot conclude that literacy rate will\n",
        "be least where unemployment ratio is higher."
      ],
      "metadata": {
        "id": "5c0fNAhmi-Xb"
      }
    }
  ]
}